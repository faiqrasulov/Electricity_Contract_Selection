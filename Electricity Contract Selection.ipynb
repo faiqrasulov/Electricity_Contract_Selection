{
 "cells": [
  {
   "cell_type": "markdown",
   "id": "974de9d4-4f76-4cf7-8633-5451231b3e69",
   "metadata": {},
   "source": [
    "# Capstone: Electricity Contract Selection"
   ]
  },
  {
   "cell_type": "code",
   "execution_count": 1,
   "id": "26a7c123-6e21-4c6a-9252-d936dafcd23d",
   "metadata": {},
   "outputs": [
    {
     "name": "stdout",
     "output_type": "stream",
     "text": [
      "/Users/FaiqRasulov/opt/anaconda3/bin/python\n",
      "3.9.12 (main, Apr  5 2022, 01:53:17) \n",
      "[Clang 12.0.0 ]\n",
      "sys.version_info(major=3, minor=9, micro=12, releaselevel='final', serial=0)\n"
     ]
    }
   ],
   "source": [
    "#python version used and OS environment details.\n",
    "import sys\n",
    "print(sys.executable)\n",
    "print(sys.version)\n",
    "print(sys.version_info)"
   ]
  },
  {
   "cell_type": "code",
   "execution_count": 2,
   "id": "2e46e381-5630-4933-8dad-b0b1151ff0ab",
   "metadata": {},
   "outputs": [],
   "source": [
    "# Data Manipulation and Analysis\n",
    "import numpy as np\n",
    "import pandas as pd\n",
    "\n",
    "# Text Processing and Date/Time\n",
    "import re\n",
    "import datetime\n",
    "\n",
    "# Data Visualization\n",
    "import matplotlib.pyplot as plt\n",
    "\n",
    "# Miscellaneous\n",
    "from warnings import filterwarnings\n",
    "filterwarnings(\"ignore\")"
   ]
  },
  {
   "cell_type": "code",
   "execution_count": 3,
   "id": "61efc453-00ee-4823-b71a-f27d80bceebc",
   "metadata": {},
   "outputs": [
    {
     "data": {
      "text/html": [
       "<div>\n",
       "<style scoped>\n",
       "    .dataframe tbody tr th:only-of-type {\n",
       "        vertical-align: middle;\n",
       "    }\n",
       "\n",
       "    .dataframe tbody tr th {\n",
       "        vertical-align: top;\n",
       "    }\n",
       "\n",
       "    .dataframe thead th {\n",
       "        text-align: right;\n",
       "    }\n",
       "</style>\n",
       "<table border=\"1\" class=\"dataframe\">\n",
       "  <thead>\n",
       "    <tr style=\"text-align: right;\">\n",
       "      <th></th>\n",
       "      <th>Usage</th>\n",
       "    </tr>\n",
       "  </thead>\n",
       "  <tbody>\n",
       "    <tr>\n",
       "      <th>0</th>\n",
       "      <td>3 PM  Mon 24th-Mar-2014___0.384 kwh</td>\n",
       "    </tr>\n",
       "    <tr>\n",
       "      <th>1</th>\n",
       "      <td>5AM  15-Aug-2014___1.201  kwh</td>\n",
       "    </tr>\n",
       "    <tr>\n",
       "      <th>2</th>\n",
       "      <td>__8PM Thu 20-Mar-2014____1.523 kwh</td>\n",
       "    </tr>\n",
       "    <tr>\n",
       "      <th>3</th>\n",
       "      <td>6PM  23rd-Apr-2014___0.424  kwh</td>\n",
       "    </tr>\n",
       "    <tr>\n",
       "      <th>4</th>\n",
       "      <td>_1AM  Friday 19th-Dec-2014___0.209  kwh</td>\n",
       "    </tr>\n",
       "    <tr>\n",
       "      <th>...</th>\n",
       "      <td>...</td>\n",
       "    </tr>\n",
       "    <tr>\n",
       "      <th>8755</th>\n",
       "      <td>_1AM  Fri 07th-Nov-2014_0.084 kwh</td>\n",
       "    </tr>\n",
       "    <tr>\n",
       "      <th>8756</th>\n",
       "      <td>_6AM 20-May-2014__1.027 kwh</td>\n",
       "    </tr>\n",
       "    <tr>\n",
       "      <th>8757</th>\n",
       "      <td>__2 AM  Tuesday 8th-Apr-2014___0.052 kwh</td>\n",
       "    </tr>\n",
       "    <tr>\n",
       "      <th>8758</th>\n",
       "      <td>9 PM 27th-Jan-2014_1.428  kwh</td>\n",
       "    </tr>\n",
       "    <tr>\n",
       "      <th>8759</th>\n",
       "      <td>_12 PM 25th-Aug-2014_0.528  kwh</td>\n",
       "    </tr>\n",
       "  </tbody>\n",
       "</table>\n",
       "<p>8760 rows × 1 columns</p>\n",
       "</div>"
      ],
      "text/plain": [
       "                                          Usage\n",
       "0         3 PM  Mon 24th-Mar-2014___0.384 kwh  \n",
       "1                5AM  15-Aug-2014___1.201  kwh \n",
       "2          __8PM Thu 20-Mar-2014____1.523 kwh  \n",
       "3               6PM  23rd-Apr-2014___0.424  kwh\n",
       "4     _1AM  Friday 19th-Dec-2014___0.209  kwh  \n",
       "...                                         ...\n",
       "8755         _1AM  Fri 07th-Nov-2014_0.084 kwh \n",
       "8756                _6AM 20-May-2014__1.027 kwh\n",
       "8757   __2 AM  Tuesday 8th-Apr-2014___0.052 kwh\n",
       "8758            9 PM 27th-Jan-2014_1.428  kwh  \n",
       "8759          _12 PM 25th-Aug-2014_0.528  kwh  \n",
       "\n",
       "[8760 rows x 1 columns]"
      ]
     },
     "execution_count": 3,
     "metadata": {},
     "output_type": "execute_result"
    }
   ],
   "source": [
    "df= pd.read_excel('data_cleaning.xlsx', sheet_name='Usage', header = None)\n",
    "df.columns=['Usage']\n",
    "df"
   ]
  },
  {
   "cell_type": "code",
   "execution_count": 4,
   "id": "2d876960-da3c-4af9-86cd-61f078aeb9dd",
   "metadata": {},
   "outputs": [],
   "source": [
    "pattern=re.compile(r'(?P<clock>\\d+)\\s?([AMP]{2})\\s+[A-Za-z]*\\s*(?P<day>\\d+)(?:th|rd|st|nd)*-(?P<month>[A-Za-z]{3})-(?P<year>\\d{4})_+(?P<kwh>\\d+\\.\\d+)')\n",
    "clock=[]\n",
    "am_pm=[]\n",
    "day=[]\n",
    "month=[]\n",
    "year=[]\n",
    "kwh=[]\n",
    "for row in df.values.reshape(1, -1)[0]:\n",
    "    result=pattern. findall(row) [0]\n",
    "    clock.append (result[0])\n",
    "    am_pm.append(result[1])\n",
    "    day.append(result[2])\n",
    "    month.append(result[3])\n",
    "    year.append (result[4])\n",
    "    kwh.append(result[5])\n",
    "    \n",
    "clean_df=pd.DataFrame({\n",
    "    'clock': clock,\n",
    "    'AM/PM':am_pm,\n",
    "    'day' : day,\n",
    "    'month': month,\n",
    "    'year': year,\n",
    "    'kwh':kwh,\n",
    "    'original_data':df.values.reshape(1,-1)[0]})\n",
    "\n",
    "time_func= lambda x:pd.to_datetime(f\"{x['year']}-{x['month']}-{x['day']} {x['clock']}{x['AM/PM']}\")\n",
    "clean_df['full_time']=clean_df.apply(func=time_func, axis=1)"
   ]
  },
  {
   "cell_type": "code",
   "execution_count": 5,
   "id": "dfe6878a-fc89-412d-8113-8fbec956e2c0",
   "metadata": {},
   "outputs": [
    {
     "data": {
      "text/html": [
       "<div>\n",
       "<style scoped>\n",
       "    .dataframe tbody tr th:only-of-type {\n",
       "        vertical-align: middle;\n",
       "    }\n",
       "\n",
       "    .dataframe tbody tr th {\n",
       "        vertical-align: top;\n",
       "    }\n",
       "\n",
       "    .dataframe thead th {\n",
       "        text-align: right;\n",
       "    }\n",
       "</style>\n",
       "<table border=\"1\" class=\"dataframe\">\n",
       "  <thead>\n",
       "    <tr style=\"text-align: right;\">\n",
       "      <th></th>\n",
       "      <th>clock</th>\n",
       "      <th>AM/PM</th>\n",
       "      <th>day</th>\n",
       "      <th>month</th>\n",
       "      <th>year</th>\n",
       "      <th>kwh</th>\n",
       "      <th>original_data</th>\n",
       "      <th>full_time</th>\n",
       "    </tr>\n",
       "  </thead>\n",
       "  <tbody>\n",
       "    <tr>\n",
       "      <th>0</th>\n",
       "      <td>3</td>\n",
       "      <td>PM</td>\n",
       "      <td>24</td>\n",
       "      <td>Mar</td>\n",
       "      <td>2014</td>\n",
       "      <td>0.384</td>\n",
       "      <td>3 PM  Mon 24th-Mar-2014___0.384 kwh</td>\n",
       "      <td>2014-03-24 15:00:00</td>\n",
       "    </tr>\n",
       "    <tr>\n",
       "      <th>1</th>\n",
       "      <td>5</td>\n",
       "      <td>AM</td>\n",
       "      <td>15</td>\n",
       "      <td>Aug</td>\n",
       "      <td>2014</td>\n",
       "      <td>1.201</td>\n",
       "      <td>5AM  15-Aug-2014___1.201  kwh</td>\n",
       "      <td>2014-08-15 05:00:00</td>\n",
       "    </tr>\n",
       "    <tr>\n",
       "      <th>2</th>\n",
       "      <td>8</td>\n",
       "      <td>PM</td>\n",
       "      <td>20</td>\n",
       "      <td>Mar</td>\n",
       "      <td>2014</td>\n",
       "      <td>1.523</td>\n",
       "      <td>__8PM Thu 20-Mar-2014____1.523 kwh</td>\n",
       "      <td>2014-03-20 20:00:00</td>\n",
       "    </tr>\n",
       "    <tr>\n",
       "      <th>3</th>\n",
       "      <td>6</td>\n",
       "      <td>PM</td>\n",
       "      <td>23</td>\n",
       "      <td>Apr</td>\n",
       "      <td>2014</td>\n",
       "      <td>0.424</td>\n",
       "      <td>6PM  23rd-Apr-2014___0.424  kwh</td>\n",
       "      <td>2014-04-23 18:00:00</td>\n",
       "    </tr>\n",
       "    <tr>\n",
       "      <th>4</th>\n",
       "      <td>1</td>\n",
       "      <td>AM</td>\n",
       "      <td>19</td>\n",
       "      <td>Dec</td>\n",
       "      <td>2014</td>\n",
       "      <td>0.209</td>\n",
       "      <td>_1AM  Friday 19th-Dec-2014___0.209  kwh</td>\n",
       "      <td>2014-12-19 01:00:00</td>\n",
       "    </tr>\n",
       "  </tbody>\n",
       "</table>\n",
       "</div>"
      ],
      "text/plain": [
       "  clock AM/PM day month  year    kwh  \\\n",
       "0     3    PM  24   Mar  2014  0.384   \n",
       "1     5    AM  15   Aug  2014  1.201   \n",
       "2     8    PM  20   Mar  2014  1.523   \n",
       "3     6    PM  23   Apr  2014  0.424   \n",
       "4     1    AM  19   Dec  2014  0.209   \n",
       "\n",
       "                               original_data           full_time  \n",
       "0      3 PM  Mon 24th-Mar-2014___0.384 kwh   2014-03-24 15:00:00  \n",
       "1             5AM  15-Aug-2014___1.201  kwh  2014-08-15 05:00:00  \n",
       "2       __8PM Thu 20-Mar-2014____1.523 kwh   2014-03-20 20:00:00  \n",
       "3            6PM  23rd-Apr-2014___0.424  kwh 2014-04-23 18:00:00  \n",
       "4  _1AM  Friday 19th-Dec-2014___0.209  kwh   2014-12-19 01:00:00  "
      ]
     },
     "execution_count": 5,
     "metadata": {},
     "output_type": "execute_result"
    }
   ],
   "source": [
    "clean_df.head()"
   ]
  },
  {
   "cell_type": "code",
   "execution_count": 6,
   "id": "ccb8a234-6767-4fba-8737-02e914746d01",
   "metadata": {},
   "outputs": [
    {
     "data": {
      "text/html": [
       "<div>\n",
       "<style scoped>\n",
       "    .dataframe tbody tr th:only-of-type {\n",
       "        vertical-align: middle;\n",
       "    }\n",
       "\n",
       "    .dataframe tbody tr th {\n",
       "        vertical-align: top;\n",
       "    }\n",
       "\n",
       "    .dataframe thead th {\n",
       "        text-align: right;\n",
       "    }\n",
       "</style>\n",
       "<table border=\"1\" class=\"dataframe\">\n",
       "  <thead>\n",
       "    <tr style=\"text-align: right;\">\n",
       "      <th></th>\n",
       "      <th>clock</th>\n",
       "      <th>AM/PM</th>\n",
       "      <th>day</th>\n",
       "      <th>month</th>\n",
       "      <th>year</th>\n",
       "      <th>kwh</th>\n",
       "      <th>original_data</th>\n",
       "      <th>week day</th>\n",
       "    </tr>\n",
       "    <tr>\n",
       "      <th>full_time</th>\n",
       "      <th></th>\n",
       "      <th></th>\n",
       "      <th></th>\n",
       "      <th></th>\n",
       "      <th></th>\n",
       "      <th></th>\n",
       "      <th></th>\n",
       "      <th></th>\n",
       "    </tr>\n",
       "  </thead>\n",
       "  <tbody>\n",
       "    <tr>\n",
       "      <th>2014-01-01 00:00:00</th>\n",
       "      <td>12</td>\n",
       "      <td>AM</td>\n",
       "      <td>1</td>\n",
       "      <td>Jan</td>\n",
       "      <td>2014</td>\n",
       "      <td>0.684</td>\n",
       "      <td>__12AM  1st-Jan-2014_0.684 kwh</td>\n",
       "      <td>3</td>\n",
       "    </tr>\n",
       "    <tr>\n",
       "      <th>2014-01-01 01:00:00</th>\n",
       "      <td>1</td>\n",
       "      <td>AM</td>\n",
       "      <td>1</td>\n",
       "      <td>Jan</td>\n",
       "      <td>2014</td>\n",
       "      <td>0.340</td>\n",
       "      <td>_1AM  Wednesday 1st-Jan-2014__0.34  kwh</td>\n",
       "      <td>3</td>\n",
       "    </tr>\n",
       "    <tr>\n",
       "      <th>2014-01-01 02:00:00</th>\n",
       "      <td>2</td>\n",
       "      <td>AM</td>\n",
       "      <td>01</td>\n",
       "      <td>Jan</td>\n",
       "      <td>2014</td>\n",
       "      <td>0.332</td>\n",
       "      <td>2 AM  Wed 01-Jan-2014_0.332  kwh</td>\n",
       "      <td>3</td>\n",
       "    </tr>\n",
       "    <tr>\n",
       "      <th>2014-01-01 03:00:00</th>\n",
       "      <td>3</td>\n",
       "      <td>AM</td>\n",
       "      <td>1</td>\n",
       "      <td>Jan</td>\n",
       "      <td>2014</td>\n",
       "      <td>0.396</td>\n",
       "      <td>_3AM   Wednesday 1-Jan-2014___0.396  kwh</td>\n",
       "      <td>3</td>\n",
       "    </tr>\n",
       "    <tr>\n",
       "      <th>2014-01-01 04:00:00</th>\n",
       "      <td>4</td>\n",
       "      <td>AM</td>\n",
       "      <td>01</td>\n",
       "      <td>Jan</td>\n",
       "      <td>2014</td>\n",
       "      <td>0.388</td>\n",
       "      <td>__4AM   01-Jan-2014_0.388  kwh</td>\n",
       "      <td>3</td>\n",
       "    </tr>\n",
       "    <tr>\n",
       "      <th>2014-01-01 05:00:00</th>\n",
       "      <td>5</td>\n",
       "      <td>AM</td>\n",
       "      <td>01</td>\n",
       "      <td>Jan</td>\n",
       "      <td>2014</td>\n",
       "      <td>2.354</td>\n",
       "      <td>_5 AM  01st-Jan-2014_2.354 kwh</td>\n",
       "      <td>3</td>\n",
       "    </tr>\n",
       "    <tr>\n",
       "      <th>2014-01-01 06:00:00</th>\n",
       "      <td>6</td>\n",
       "      <td>AM</td>\n",
       "      <td>1</td>\n",
       "      <td>Jan</td>\n",
       "      <td>2014</td>\n",
       "      <td>2.304</td>\n",
       "      <td>6 AM Wed 1-Jan-2014__2.304  kwh</td>\n",
       "      <td>3</td>\n",
       "    </tr>\n",
       "    <tr>\n",
       "      <th>2014-01-01 07:00:00</th>\n",
       "      <td>7</td>\n",
       "      <td>AM</td>\n",
       "      <td>1</td>\n",
       "      <td>Jan</td>\n",
       "      <td>2014</td>\n",
       "      <td>1.530</td>\n",
       "      <td>7 AM Wed 1st-Jan-2014___1.53  kwh</td>\n",
       "      <td>3</td>\n",
       "    </tr>\n",
       "    <tr>\n",
       "      <th>2014-01-01 08:00:00</th>\n",
       "      <td>8</td>\n",
       "      <td>AM</td>\n",
       "      <td>1</td>\n",
       "      <td>Jan</td>\n",
       "      <td>2014</td>\n",
       "      <td>0.656</td>\n",
       "      <td>_8AM  Wed 1st-Jan-2014___0.656  kwh</td>\n",
       "      <td>3</td>\n",
       "    </tr>\n",
       "    <tr>\n",
       "      <th>2014-01-01 09:00:00</th>\n",
       "      <td>9</td>\n",
       "      <td>AM</td>\n",
       "      <td>01</td>\n",
       "      <td>Jan</td>\n",
       "      <td>2014</td>\n",
       "      <td>0.510</td>\n",
       "      <td>_9 AM   01st-Jan-2014____0.51 kwh</td>\n",
       "      <td>3</td>\n",
       "    </tr>\n",
       "  </tbody>\n",
       "</table>\n",
       "</div>"
      ],
      "text/plain": [
       "                    clock AM/PM day month  year    kwh  \\\n",
       "full_time                                                \n",
       "2014-01-01 00:00:00    12    AM   1   Jan  2014  0.684   \n",
       "2014-01-01 01:00:00     1    AM   1   Jan  2014  0.340   \n",
       "2014-01-01 02:00:00     2    AM  01   Jan  2014  0.332   \n",
       "2014-01-01 03:00:00     3    AM   1   Jan  2014  0.396   \n",
       "2014-01-01 04:00:00     4    AM  01   Jan  2014  0.388   \n",
       "2014-01-01 05:00:00     5    AM  01   Jan  2014  2.354   \n",
       "2014-01-01 06:00:00     6    AM   1   Jan  2014  2.304   \n",
       "2014-01-01 07:00:00     7    AM   1   Jan  2014  1.530   \n",
       "2014-01-01 08:00:00     8    AM   1   Jan  2014  0.656   \n",
       "2014-01-01 09:00:00     9    AM  01   Jan  2014  0.510   \n",
       "\n",
       "                                                  original_data  week day  \n",
       "full_time                                                                  \n",
       "2014-01-01 00:00:00            __12AM  1st-Jan-2014_0.684 kwh           3  \n",
       "2014-01-01 01:00:00     _1AM  Wednesday 1st-Jan-2014__0.34  kwh         3  \n",
       "2014-01-01 02:00:00          2 AM  Wed 01-Jan-2014_0.332  kwh           3  \n",
       "2014-01-01 03:00:00    _3AM   Wednesday 1-Jan-2014___0.396  kwh         3  \n",
       "2014-01-01 04:00:00             __4AM   01-Jan-2014_0.388  kwh          3  \n",
       "2014-01-01 05:00:00              _5 AM  01st-Jan-2014_2.354 kwh         3  \n",
       "2014-01-01 06:00:00             6 AM Wed 1-Jan-2014__2.304  kwh         3  \n",
       "2014-01-01 07:00:00          7 AM Wed 1st-Jan-2014___1.53  kwh          3  \n",
       "2014-01-01 08:00:00       _8AM  Wed 1st-Jan-2014___0.656  kwh           3  \n",
       "2014-01-01 09:00:00          _9 AM   01st-Jan-2014____0.51 kwh          3  "
      ]
     },
     "execution_count": 6,
     "metadata": {},
     "output_type": "execute_result"
    }
   ],
   "source": [
    "time_series_data=clean_df.set_index('full_time')\n",
    "time_series_data['kwh']=time_series_data['kwh'].astype('float')\n",
    "time_series_data['week day']=(time_series_data.index.weekday+1)\n",
    "time_series_data.sort_index(ascending=True, inplace=True)\n",
    "time_series_data.head(10)"
   ]
  },
  {
   "cell_type": "code",
   "execution_count": 7,
   "id": "698bf880-0f2f-4ae5-9f1d-f7a139a5b438",
   "metadata": {},
   "outputs": [
    {
     "data": {
      "text/html": [
       "<div>\n",
       "<style scoped>\n",
       "    .dataframe tbody tr th:only-of-type {\n",
       "        vertical-align: middle;\n",
       "    }\n",
       "\n",
       "    .dataframe tbody tr th {\n",
       "        vertical-align: top;\n",
       "    }\n",
       "\n",
       "    .dataframe thead th {\n",
       "        text-align: right;\n",
       "    }\n",
       "</style>\n",
       "<table border=\"1\" class=\"dataframe\">\n",
       "  <thead>\n",
       "    <tr style=\"text-align: right;\">\n",
       "      <th></th>\n",
       "      <th>clock</th>\n",
       "      <th>AM/PM</th>\n",
       "      <th>day</th>\n",
       "      <th>month</th>\n",
       "      <th>year</th>\n",
       "      <th>kwh</th>\n",
       "      <th>original_data</th>\n",
       "      <th>week day</th>\n",
       "    </tr>\n",
       "    <tr>\n",
       "      <th>full_time</th>\n",
       "      <th></th>\n",
       "      <th></th>\n",
       "      <th></th>\n",
       "      <th></th>\n",
       "      <th></th>\n",
       "      <th></th>\n",
       "      <th></th>\n",
       "      <th></th>\n",
       "    </tr>\n",
       "  </thead>\n",
       "  <tbody>\n",
       "    <tr>\n",
       "      <th>2014-01-01 00:00:00</th>\n",
       "      <td>12</td>\n",
       "      <td>AM</td>\n",
       "      <td>1</td>\n",
       "      <td>Jan</td>\n",
       "      <td>2014</td>\n",
       "      <td>0.684</td>\n",
       "      <td>__12AM  1st-Jan-2014_0.684 kwh</td>\n",
       "      <td>3</td>\n",
       "    </tr>\n",
       "    <tr>\n",
       "      <th>2014-01-01 01:00:00</th>\n",
       "      <td>1</td>\n",
       "      <td>AM</td>\n",
       "      <td>1</td>\n",
       "      <td>Jan</td>\n",
       "      <td>2014</td>\n",
       "      <td>0.340</td>\n",
       "      <td>_1AM  Wednesday 1st-Jan-2014__0.34  kwh</td>\n",
       "      <td>3</td>\n",
       "    </tr>\n",
       "    <tr>\n",
       "      <th>2014-01-01 02:00:00</th>\n",
       "      <td>2</td>\n",
       "      <td>AM</td>\n",
       "      <td>1</td>\n",
       "      <td>Jan</td>\n",
       "      <td>2014</td>\n",
       "      <td>0.332</td>\n",
       "      <td>2 AM  Wed 01-Jan-2014_0.332  kwh</td>\n",
       "      <td>3</td>\n",
       "    </tr>\n",
       "    <tr>\n",
       "      <th>2014-01-01 03:00:00</th>\n",
       "      <td>3</td>\n",
       "      <td>AM</td>\n",
       "      <td>1</td>\n",
       "      <td>Jan</td>\n",
       "      <td>2014</td>\n",
       "      <td>0.396</td>\n",
       "      <td>_3AM   Wednesday 1-Jan-2014___0.396  kwh</td>\n",
       "      <td>3</td>\n",
       "    </tr>\n",
       "    <tr>\n",
       "      <th>2014-01-01 04:00:00</th>\n",
       "      <td>4</td>\n",
       "      <td>AM</td>\n",
       "      <td>1</td>\n",
       "      <td>Jan</td>\n",
       "      <td>2014</td>\n",
       "      <td>0.388</td>\n",
       "      <td>__4AM   01-Jan-2014_0.388  kwh</td>\n",
       "      <td>3</td>\n",
       "    </tr>\n",
       "    <tr>\n",
       "      <th>2014-01-01 05:00:00</th>\n",
       "      <td>5</td>\n",
       "      <td>AM</td>\n",
       "      <td>1</td>\n",
       "      <td>Jan</td>\n",
       "      <td>2014</td>\n",
       "      <td>2.354</td>\n",
       "      <td>_5 AM  01st-Jan-2014_2.354 kwh</td>\n",
       "      <td>3</td>\n",
       "    </tr>\n",
       "    <tr>\n",
       "      <th>2014-01-01 06:00:00</th>\n",
       "      <td>6</td>\n",
       "      <td>AM</td>\n",
       "      <td>1</td>\n",
       "      <td>Jan</td>\n",
       "      <td>2014</td>\n",
       "      <td>2.304</td>\n",
       "      <td>6 AM Wed 1-Jan-2014__2.304  kwh</td>\n",
       "      <td>3</td>\n",
       "    </tr>\n",
       "    <tr>\n",
       "      <th>2014-01-01 07:00:00</th>\n",
       "      <td>7</td>\n",
       "      <td>AM</td>\n",
       "      <td>1</td>\n",
       "      <td>Jan</td>\n",
       "      <td>2014</td>\n",
       "      <td>1.530</td>\n",
       "      <td>7 AM Wed 1st-Jan-2014___1.53  kwh</td>\n",
       "      <td>3</td>\n",
       "    </tr>\n",
       "    <tr>\n",
       "      <th>2014-01-01 08:00:00</th>\n",
       "      <td>8</td>\n",
       "      <td>AM</td>\n",
       "      <td>1</td>\n",
       "      <td>Jan</td>\n",
       "      <td>2014</td>\n",
       "      <td>0.656</td>\n",
       "      <td>_8AM  Wed 1st-Jan-2014___0.656  kwh</td>\n",
       "      <td>3</td>\n",
       "    </tr>\n",
       "    <tr>\n",
       "      <th>2014-01-01 09:00:00</th>\n",
       "      <td>9</td>\n",
       "      <td>AM</td>\n",
       "      <td>1</td>\n",
       "      <td>Jan</td>\n",
       "      <td>2014</td>\n",
       "      <td>0.510</td>\n",
       "      <td>_9 AM   01st-Jan-2014____0.51 kwh</td>\n",
       "      <td>3</td>\n",
       "    </tr>\n",
       "  </tbody>\n",
       "</table>\n",
       "</div>"
      ],
      "text/plain": [
       "                    clock AM/PM day month  year    kwh  \\\n",
       "full_time                                                \n",
       "2014-01-01 00:00:00    12    AM   1   Jan  2014  0.684   \n",
       "2014-01-01 01:00:00     1    AM   1   Jan  2014  0.340   \n",
       "2014-01-01 02:00:00     2    AM   1   Jan  2014  0.332   \n",
       "2014-01-01 03:00:00     3    AM   1   Jan  2014  0.396   \n",
       "2014-01-01 04:00:00     4    AM   1   Jan  2014  0.388   \n",
       "2014-01-01 05:00:00     5    AM   1   Jan  2014  2.354   \n",
       "2014-01-01 06:00:00     6    AM   1   Jan  2014  2.304   \n",
       "2014-01-01 07:00:00     7    AM   1   Jan  2014  1.530   \n",
       "2014-01-01 08:00:00     8    AM   1   Jan  2014  0.656   \n",
       "2014-01-01 09:00:00     9    AM   1   Jan  2014  0.510   \n",
       "\n",
       "                                                  original_data  week day  \n",
       "full_time                                                                  \n",
       "2014-01-01 00:00:00            __12AM  1st-Jan-2014_0.684 kwh           3  \n",
       "2014-01-01 01:00:00     _1AM  Wednesday 1st-Jan-2014__0.34  kwh         3  \n",
       "2014-01-01 02:00:00          2 AM  Wed 01-Jan-2014_0.332  kwh           3  \n",
       "2014-01-01 03:00:00    _3AM   Wednesday 1-Jan-2014___0.396  kwh         3  \n",
       "2014-01-01 04:00:00             __4AM   01-Jan-2014_0.388  kwh          3  \n",
       "2014-01-01 05:00:00              _5 AM  01st-Jan-2014_2.354 kwh         3  \n",
       "2014-01-01 06:00:00             6 AM Wed 1-Jan-2014__2.304  kwh         3  \n",
       "2014-01-01 07:00:00          7 AM Wed 1st-Jan-2014___1.53  kwh          3  \n",
       "2014-01-01 08:00:00       _8AM  Wed 1st-Jan-2014___0.656  kwh           3  \n",
       "2014-01-01 09:00:00          _9 AM   01st-Jan-2014____0.51 kwh          3  "
      ]
     },
     "execution_count": 7,
     "metadata": {},
     "output_type": "execute_result"
    }
   ],
   "source": [
    "#stripping leading zero from day column\n",
    "time_series_data['day'] = time_series_data['day'].str.lstrip('0')\n",
    "time_series_data.head(10)"
   ]
  },
  {
   "cell_type": "code",
   "execution_count": 8,
   "id": "f10df545-aee9-4ded-9901-c92fc2478beb",
   "metadata": {
    "scrolled": true,
    "tags": []
   },
   "outputs": [],
   "source": [
    "#Please note that dropping the duplicates which is necessary modifies some of our results \n",
    "def duplicate_check_remove(data):\n",
    "    num_duplicates = data.duplicated().sum()\n",
    "    if num_duplicates > 0:\n",
    "        print(f'The number of duplicate rows before: {num_duplicates}')\n",
    "        data.drop_duplicates(inplace = True)\n",
    "        print(f'The number of duplicate rows now: {data.duplicated().sum()}')\n",
    "    else:\n",
    "        print('There are no duplicate rows in the data set.')"
   ]
  },
  {
   "cell_type": "code",
   "execution_count": 9,
   "id": "b1a253ff-8f91-4891-9ccc-b768a992e312",
   "metadata": {},
   "outputs": [
    {
     "name": "stdout",
     "output_type": "stream",
     "text": [
      "The number of duplicate rows before: 6\n",
      "The number of duplicate rows now: 0\n"
     ]
    }
   ],
   "source": [
    "duplicate_check_remove(time_series_data)"
   ]
  },
  {
   "cell_type": "markdown",
   "id": "f31d074b-d453-4dd8-94cb-367162c38a19",
   "metadata": {
    "tags": []
   },
   "source": [
    "## Visualizaton Daily "
   ]
  },
  {
   "cell_type": "code",
   "execution_count": 10,
   "id": "b59a46e8-c722-4784-8f5c-b3e5033d759c",
   "metadata": {},
   "outputs": [
    {
     "data": {
      "text/html": [
       "<div>\n",
       "<style scoped>\n",
       "    .dataframe tbody tr th:only-of-type {\n",
       "        vertical-align: middle;\n",
       "    }\n",
       "\n",
       "    .dataframe tbody tr th {\n",
       "        vertical-align: top;\n",
       "    }\n",
       "\n",
       "    .dataframe thead th {\n",
       "        text-align: right;\n",
       "    }\n",
       "</style>\n",
       "<table border=\"1\" class=\"dataframe\">\n",
       "  <thead>\n",
       "    <tr style=\"text-align: right;\">\n",
       "      <th></th>\n",
       "      <th>kwh</th>\n",
       "    </tr>\n",
       "    <tr>\n",
       "      <th>full_time</th>\n",
       "      <th></th>\n",
       "    </tr>\n",
       "  </thead>\n",
       "  <tbody>\n",
       "    <tr>\n",
       "      <th>2014-01-01 00:00:00</th>\n",
       "      <td>0.684</td>\n",
       "    </tr>\n",
       "    <tr>\n",
       "      <th>2014-01-01 01:00:00</th>\n",
       "      <td>0.340</td>\n",
       "    </tr>\n",
       "    <tr>\n",
       "      <th>2014-01-01 02:00:00</th>\n",
       "      <td>0.332</td>\n",
       "    </tr>\n",
       "    <tr>\n",
       "      <th>2014-01-01 03:00:00</th>\n",
       "      <td>0.396</td>\n",
       "    </tr>\n",
       "    <tr>\n",
       "      <th>2014-01-01 04:00:00</th>\n",
       "      <td>0.388</td>\n",
       "    </tr>\n",
       "  </tbody>\n",
       "</table>\n",
       "</div>"
      ],
      "text/plain": [
       "                       kwh\n",
       "full_time                 \n",
       "2014-01-01 00:00:00  0.684\n",
       "2014-01-01 01:00:00  0.340\n",
       "2014-01-01 02:00:00  0.332\n",
       "2014-01-01 03:00:00  0.396\n",
       "2014-01-01 04:00:00  0.388"
      ]
     },
     "execution_count": 10,
     "metadata": {},
     "output_type": "execute_result"
    }
   ],
   "source": [
    "time_series_kwh=time_series_data.copy()\n",
    "time_series_kwh.drop(columns=['clock', 'AM/PM', 'day', 'month', 'year', 'original_data','week day'], inplace=True)\n",
    "time_series_kwh.head()"
   ]
  },
  {
   "cell_type": "code",
   "execution_count": 11,
   "id": "83f92556-8446-4717-9fdd-c80357d43da2",
   "metadata": {},
   "outputs": [
    {
     "data": {
      "text/plain": [
       "<matplotlib.collections.PathCollection at 0x7fada1261c10>"
      ]
     },
     "execution_count": 11,
     "metadata": {},
     "output_type": "execute_result"
    },
    {
     "data": {
      "image/png": "[encoded data removed]",
      "text/plain": [
       "<Figure size 2520x360 with 1 Axes>"
      ]
     },
     "metadata": {
      "needs_background": "light"
     },
     "output_type": "display_data"
    }
   ],
   "source": [
    " %matplotlib inline\n",
    "plt.figure(figsize=(35, 5))\n",
    "plt.scatter(time_series_kwh.index, time_series_kwh[\"kwh\"])"
   ]
  },
  {
   "cell_type": "markdown",
   "id": "2e6928d7-029b-4f13-b805-6384b1832c0f",
   "metadata": {
    "tags": []
   },
   "source": [
    "## Visualizaton monthly "
   ]
  },
  {
   "cell_type": "code",
   "execution_count": 12,
   "id": "ab600d80-7c89-459d-8835-fa4ab2a1ca76",
   "metadata": {},
   "outputs": [
    {
     "data": {
      "text/plain": [
       "<AxesSubplot:xlabel='full_time'>"
      ]
     },
     "execution_count": 12,
     "metadata": {},
     "output_type": "execute_result"
    },
    {
     "data": {
      "image/png": "[encoded data removed]",
      "text/plain": [
       "<Figure size 2520x360 with 1 Axes>"
      ]
     },
     "metadata": {
      "needs_background": "light"
     },
     "output_type": "display_data"
    }
   ],
   "source": [
    "plt.figure(figsize=(35, 5))\n",
    "time_series_kwh.resample('1M').count()['kwh'].plot()"
   ]
  },
  {
   "cell_type": "code",
   "execution_count": 13,
   "id": "8fa77e09-e0e1-4ca6-9d1c-2f19f7ec9690",
   "metadata": {},
   "outputs": [
    {
     "data": {
      "text/html": [
       "<div>\n",
       "<style scoped>\n",
       "    .dataframe tbody tr th:only-of-type {\n",
       "        vertical-align: middle;\n",
       "    }\n",
       "\n",
       "    .dataframe tbody tr th {\n",
       "        vertical-align: top;\n",
       "    }\n",
       "\n",
       "    .dataframe thead th {\n",
       "        text-align: right;\n",
       "    }\n",
       "</style>\n",
       "<table border=\"1\" class=\"dataframe\">\n",
       "  <thead>\n",
       "    <tr style=\"text-align: right;\">\n",
       "      <th></th>\n",
       "      <th>full_time</th>\n",
       "      <th>kwh</th>\n",
       "    </tr>\n",
       "  </thead>\n",
       "  <tbody>\n",
       "    <tr>\n",
       "      <th>0</th>\n",
       "      <td>2014-01-01 00:00:00</td>\n",
       "      <td>0.684</td>\n",
       "    </tr>\n",
       "    <tr>\n",
       "      <th>1</th>\n",
       "      <td>2014-01-01 01:00:00</td>\n",
       "      <td>0.340</td>\n",
       "    </tr>\n",
       "    <tr>\n",
       "      <th>2</th>\n",
       "      <td>2014-01-01 02:00:00</td>\n",
       "      <td>0.332</td>\n",
       "    </tr>\n",
       "    <tr>\n",
       "      <th>3</th>\n",
       "      <td>2014-01-01 03:00:00</td>\n",
       "      <td>0.396</td>\n",
       "    </tr>\n",
       "    <tr>\n",
       "      <th>4</th>\n",
       "      <td>2014-01-01 04:00:00</td>\n",
       "      <td>0.388</td>\n",
       "    </tr>\n",
       "  </tbody>\n",
       "</table>\n",
       "</div>"
      ],
      "text/plain": [
       "            full_time    kwh\n",
       "0 2014-01-01 00:00:00  0.684\n",
       "1 2014-01-01 01:00:00  0.340\n",
       "2 2014-01-01 02:00:00  0.332\n",
       "3 2014-01-01 03:00:00  0.396\n",
       "4 2014-01-01 04:00:00  0.388"
      ]
     },
     "execution_count": 13,
     "metadata": {},
     "output_type": "execute_result"
    }
   ],
   "source": [
    "time_series_kwh=time_series_kwh.reset_index()\n",
    "time_series_kwh.head()"
   ]
  },
  {
   "cell_type": "code",
   "execution_count": 14,
   "id": "8314312b-5b80-42b2-b06f-b16c049c43ab",
   "metadata": {},
   "outputs": [],
   "source": [
    "#getting the required columns to answer the questions from date time\n",
    "time_series_kwh['weekday'] = time_series_kwh['full_time'].dt.day_name() \n",
    "time_series_kwh['month'] = time_series_kwh['full_time'].dt.month_name()\n",
    "time_series_kwh['time'] = time_series_kwh['full_time'].dt.strftime('%H').astype(int)\n",
    "time_series_kwh['month_num'] = time_series_kwh['full_time'].dt.strftime('%m').astype(int)"
   ]
  },
  {
   "cell_type": "code",
   "execution_count": 15,
   "id": "c28f7496-46a1-4567-9ac1-d6d2f4707ace",
   "metadata": {},
   "outputs": [
    {
     "name": "stdout",
     "output_type": "stream",
     "text": [
      "<class 'pandas.core.frame.DataFrame'>\n",
      "RangeIndex: 8754 entries, 0 to 8753\n",
      "Data columns (total 6 columns):\n",
      " #   Column     Non-Null Count  Dtype         \n",
      "---  ------     --------------  -----         \n",
      " 0   full_time  8754 non-null   datetime64[ns]\n",
      " 1   kwh        8754 non-null   float64       \n",
      " 2   weekday    8754 non-null   object        \n",
      " 3   month      8754 non-null   object        \n",
      " 4   time       8754 non-null   int64         \n",
      " 5   month_num  8754 non-null   int64         \n",
      "dtypes: datetime64[ns](1), float64(1), int64(2), object(2)\n",
      "memory usage: 410.5+ KB\n"
     ]
    }
   ],
   "source": [
    "time_series_kwh.info()"
   ]
  },
  {
   "cell_type": "code",
   "execution_count": 16,
   "id": "f86f9893-762b-457f-bf60-55886a382364",
   "metadata": {},
   "outputs": [
    {
     "data": {
      "text/html": [
       "<div>\n",
       "<style scoped>\n",
       "    .dataframe tbody tr th:only-of-type {\n",
       "        vertical-align: middle;\n",
       "    }\n",
       "\n",
       "    .dataframe tbody tr th {\n",
       "        vertical-align: top;\n",
       "    }\n",
       "\n",
       "    .dataframe thead th {\n",
       "        text-align: right;\n",
       "    }\n",
       "</style>\n",
       "<table border=\"1\" class=\"dataframe\">\n",
       "  <thead>\n",
       "    <tr style=\"text-align: right;\">\n",
       "      <th></th>\n",
       "      <th>full_time</th>\n",
       "      <th>kwh</th>\n",
       "      <th>weekday</th>\n",
       "      <th>month</th>\n",
       "      <th>time</th>\n",
       "      <th>month_num</th>\n",
       "    </tr>\n",
       "  </thead>\n",
       "  <tbody>\n",
       "    <tr>\n",
       "      <th>0</th>\n",
       "      <td>2014-01-01 00:00:00</td>\n",
       "      <td>0.684</td>\n",
       "      <td>Wednesday</td>\n",
       "      <td>January</td>\n",
       "      <td>0</td>\n",
       "      <td>1</td>\n",
       "    </tr>\n",
       "    <tr>\n",
       "      <th>1</th>\n",
       "      <td>2014-01-01 01:00:00</td>\n",
       "      <td>0.340</td>\n",
       "      <td>Wednesday</td>\n",
       "      <td>January</td>\n",
       "      <td>1</td>\n",
       "      <td>1</td>\n",
       "    </tr>\n",
       "    <tr>\n",
       "      <th>2</th>\n",
       "      <td>2014-01-01 02:00:00</td>\n",
       "      <td>0.332</td>\n",
       "      <td>Wednesday</td>\n",
       "      <td>January</td>\n",
       "      <td>2</td>\n",
       "      <td>1</td>\n",
       "    </tr>\n",
       "    <tr>\n",
       "      <th>3</th>\n",
       "      <td>2014-01-01 03:00:00</td>\n",
       "      <td>0.396</td>\n",
       "      <td>Wednesday</td>\n",
       "      <td>January</td>\n",
       "      <td>3</td>\n",
       "      <td>1</td>\n",
       "    </tr>\n",
       "    <tr>\n",
       "      <th>4</th>\n",
       "      <td>2014-01-01 04:00:00</td>\n",
       "      <td>0.388</td>\n",
       "      <td>Wednesday</td>\n",
       "      <td>January</td>\n",
       "      <td>4</td>\n",
       "      <td>1</td>\n",
       "    </tr>\n",
       "  </tbody>\n",
       "</table>\n",
       "</div>"
      ],
      "text/plain": [
       "            full_time    kwh    weekday    month  time  month_num\n",
       "0 2014-01-01 00:00:00  0.684  Wednesday  January     0          1\n",
       "1 2014-01-01 01:00:00  0.340  Wednesday  January     1          1\n",
       "2 2014-01-01 02:00:00  0.332  Wednesday  January     2          1\n",
       "3 2014-01-01 03:00:00  0.396  Wednesday  January     3          1\n",
       "4 2014-01-01 04:00:00  0.388  Wednesday  January     4          1"
      ]
     },
     "execution_count": 16,
     "metadata": {},
     "output_type": "execute_result"
    }
   ],
   "source": [
    "time_series_kwh.head()"
   ]
  },
  {
   "cell_type": "code",
   "execution_count": 17,
   "id": "52dbb6e2-e343-44f8-a0b9-1ec2d81abe41",
   "metadata": {
    "scrolled": true,
    "tags": []
   },
   "outputs": [
    {
     "name": "stdout",
     "output_type": "stream",
     "text": [
      "Number of rows: 8760\n"
     ]
    },
    {
     "data": {
      "text/html": [
       "<div>\n",
       "<style scoped>\n",
       "    .dataframe tbody tr th:only-of-type {\n",
       "        vertical-align: middle;\n",
       "    }\n",
       "\n",
       "    .dataframe tbody tr th {\n",
       "        vertical-align: top;\n",
       "    }\n",
       "\n",
       "    .dataframe thead th {\n",
       "        text-align: right;\n",
       "    }\n",
       "</style>\n",
       "<table border=\"1\" class=\"dataframe\">\n",
       "  <thead>\n",
       "    <tr style=\"text-align: right;\">\n",
       "      <th></th>\n",
       "      <th>count</th>\n",
       "      <th>mean</th>\n",
       "      <th>std</th>\n",
       "      <th>min</th>\n",
       "      <th>25%</th>\n",
       "      <th>50%</th>\n",
       "      <th>75%</th>\n",
       "      <th>max</th>\n",
       "    </tr>\n",
       "  </thead>\n",
       "  <tbody>\n",
       "    <tr>\n",
       "      <th>kwh</th>\n",
       "      <td>8754.0</td>\n",
       "      <td>0.781612</td>\n",
       "      <td>0.759656</td>\n",
       "      <td>0.048</td>\n",
       "      <td>0.282</td>\n",
       "      <td>0.523</td>\n",
       "      <td>0.994</td>\n",
       "      <td>5.141</td>\n",
       "    </tr>\n",
       "    <tr>\n",
       "      <th>time</th>\n",
       "      <td>8754.0</td>\n",
       "      <td>11.499543</td>\n",
       "      <td>6.921460</td>\n",
       "      <td>0.000</td>\n",
       "      <td>6.000</td>\n",
       "      <td>11.500</td>\n",
       "      <td>17.000</td>\n",
       "      <td>23.000</td>\n",
       "    </tr>\n",
       "    <tr>\n",
       "      <th>month_num</th>\n",
       "      <td>8754.0</td>\n",
       "      <td>6.526159</td>\n",
       "      <td>3.448939</td>\n",
       "      <td>1.000</td>\n",
       "      <td>4.000</td>\n",
       "      <td>7.000</td>\n",
       "      <td>10.000</td>\n",
       "      <td>12.000</td>\n",
       "    </tr>\n",
       "  </tbody>\n",
       "</table>\n",
       "</div>"
      ],
      "text/plain": [
       "            count       mean       std    min    25%     50%     75%     max\n",
       "kwh        8754.0   0.781612  0.759656  0.048  0.282   0.523   0.994   5.141\n",
       "time       8754.0  11.499543  6.921460  0.000  6.000  11.500  17.000  23.000\n",
       "month_num  8754.0   6.526159  3.448939  1.000  4.000   7.000  10.000  12.000"
      ]
     },
     "metadata": {},
     "output_type": "display_data"
    },
    {
     "data": {
      "text/plain": [
       "None"
      ]
     },
     "metadata": {},
     "output_type": "display_data"
    }
   ],
   "source": [
    "'''Question 1'''\n",
    "display(time_series_kwh.describe().T, print(f'Number of rows: {df.shape[0]}'))\n",
    "#The answer is 0.7816 "
   ]
  },
  {
   "cell_type": "code",
   "execution_count": 18,
   "id": "70ce0415-8668-41b1-974a-057f5012e420",
   "metadata": {},
   "outputs": [
    {
     "data": {
      "text/plain": [
       "0.833734724292103"
      ]
     },
     "execution_count": 18,
     "metadata": {},
     "output_type": "execute_result"
    }
   ],
   "source": [
    "'''Question 2'''\n",
    "time_series_kwh[time_series_kwh['month']=='February']['kwh'].mean()\n",
    "#The answer is 0.83"
   ]
  },
  {
   "cell_type": "code",
   "execution_count": 19,
   "id": "685c1559-5ffa-4141-8036-41dccd0731b4",
   "metadata": {},
   "outputs": [
    {
     "data": {
      "text/html": [
       "<div>\n",
       "<style scoped>\n",
       "    .dataframe tbody tr th:only-of-type {\n",
       "        vertical-align: middle;\n",
       "    }\n",
       "\n",
       "    .dataframe tbody tr th {\n",
       "        vertical-align: top;\n",
       "    }\n",
       "\n",
       "    .dataframe thead th {\n",
       "        text-align: right;\n",
       "    }\n",
       "</style>\n",
       "<table border=\"1\" class=\"dataframe\">\n",
       "  <thead>\n",
       "    <tr style=\"text-align: right;\">\n",
       "      <th></th>\n",
       "      <th>kwh</th>\n",
       "      <th>time</th>\n",
       "      <th>month_num</th>\n",
       "    </tr>\n",
       "    <tr>\n",
       "      <th>weekday</th>\n",
       "      <th></th>\n",
       "      <th></th>\n",
       "      <th></th>\n",
       "    </tr>\n",
       "  </thead>\n",
       "  <tbody>\n",
       "    <tr>\n",
       "      <th>Sunday</th>\n",
       "      <td>0.898601</td>\n",
       "      <td>11.490778</td>\n",
       "      <td>6.539695</td>\n",
       "    </tr>\n",
       "    <tr>\n",
       "      <th>Saturday</th>\n",
       "      <td>0.890300</td>\n",
       "      <td>11.499599</td>\n",
       "      <td>6.518845</td>\n",
       "    </tr>\n",
       "    <tr>\n",
       "      <th>Friday</th>\n",
       "      <td>0.753744</td>\n",
       "      <td>11.500000</td>\n",
       "      <td>6.461538</td>\n",
       "    </tr>\n",
       "    <tr>\n",
       "      <th>Thursday</th>\n",
       "      <td>0.745752</td>\n",
       "      <td>11.508420</td>\n",
       "      <td>6.442662</td>\n",
       "    </tr>\n",
       "    <tr>\n",
       "      <th>Wednesday</th>\n",
       "      <td>0.733943</td>\n",
       "      <td>11.500000</td>\n",
       "      <td>6.528302</td>\n",
       "    </tr>\n",
       "    <tr>\n",
       "      <th>Monday</th>\n",
       "      <td>0.725437</td>\n",
       "      <td>11.504006</td>\n",
       "      <td>6.574519</td>\n",
       "    </tr>\n",
       "    <tr>\n",
       "      <th>Tuesday</th>\n",
       "      <td>0.724439</td>\n",
       "      <td>11.493976</td>\n",
       "      <td>6.617671</td>\n",
       "    </tr>\n",
       "  </tbody>\n",
       "</table>\n",
       "</div>"
      ],
      "text/plain": [
       "                kwh       time  month_num\n",
       "weekday                                  \n",
       "Sunday     0.898601  11.490778   6.539695\n",
       "Saturday   0.890300  11.499599   6.518845\n",
       "Friday     0.753744  11.500000   6.461538\n",
       "Thursday   0.745752  11.508420   6.442662\n",
       "Wednesday  0.733943  11.500000   6.528302\n",
       "Monday     0.725437  11.504006   6.574519\n",
       "Tuesday    0.724439  11.493976   6.617671"
      ]
     },
     "execution_count": 19,
     "metadata": {},
     "output_type": "execute_result"
    }
   ],
   "source": [
    "'''Question 3'''\n",
    "time_series_kwh.groupby('weekday').mean().sort_values('kwh', ascending=False)\n",
    "#The answer is Sunday "
   ]
  },
  {
   "cell_type": "code",
   "execution_count": 20,
   "id": "9868586c-b8d5-40be-b0e2-f5cd594712ed",
   "metadata": {},
   "outputs": [
    {
     "data": {
      "text/plain": [
       "'Question 4 below'"
      ]
     },
     "execution_count": 20,
     "metadata": {},
     "output_type": "execute_result"
    }
   ],
   "source": [
    "'''Question 4 below'''"
   ]
  },
  {
   "cell_type": "code",
   "execution_count": 21,
   "id": "4b136048-61fa-4837-9ed1-e7dfacf1afa4",
   "metadata": {},
   "outputs": [],
   "source": [
    "value = []"
   ]
  },
  {
   "cell_type": "code",
   "execution_count": 22,
   "id": "148f1720-6419-49dd-a0a2-fe5a99cd1fd5",
   "metadata": {},
   "outputs": [],
   "source": [
    "for i in range(len(time_series_kwh)-3): \n",
    "    value.append(time_series_kwh['kwh'].loc[i:i+3].sum()) "
   ]
  },
  {
   "cell_type": "code",
   "execution_count": 23,
   "id": "66ed08fc-0229-455b-bae0-969b0d80226a",
   "metadata": {},
   "outputs": [
    {
     "data": {
      "text/plain": [
       "17.237000000000002"
      ]
     },
     "execution_count": 23,
     "metadata": {},
     "output_type": "execute_result"
    }
   ],
   "source": [
    "max(value)\n",
    "#The answer is below"
   ]
  },
  {
   "cell_type": "code",
   "execution_count": 24,
   "id": "4dd2cbe2-a014-4be3-8c63-e05c20306d48",
   "metadata": {},
   "outputs": [
    {
     "data": {
      "text/plain": [
       "'Question 5 below'"
      ]
     },
     "execution_count": 24,
     "metadata": {},
     "output_type": "execute_result"
    }
   ],
   "source": [
    "'''Question 5 below'''"
   ]
  },
  {
   "cell_type": "code",
   "execution_count": 25,
   "id": "24ea80f2-fbd1-4101-8759-342b977381f3",
   "metadata": {},
   "outputs": [],
   "source": [
    "monthly_flex = []"
   ]
  },
  {
   "cell_type": "code",
   "execution_count": 26,
   "id": "b6a89130-e480-4e6a-812d-da55f4d9c5e7",
   "metadata": {},
   "outputs": [],
   "source": [
    "n = [0.20, 0.19, 0.17, 0.18, 0.22 ,0.27, 0.24, 0.19, 0.18, 0.15 ,0.14, 0.19]\n",
    "for f in range(len(time_series_kwh.month.unique())):\n",
    "    monthly_flex.append(time_series_kwh[time_series_kwh['month']==time_series_kwh.month.unique()[f]].sum()[0]*n[f])"
   ]
  },
  {
   "cell_type": "code",
   "execution_count": 27,
   "id": "8c32f4b2-be15-44a5-a66f-6fadc2b0ccbb",
   "metadata": {},
   "outputs": [
    {
     "data": {
      "text/plain": [
       "1420.05828"
      ]
     },
     "execution_count": 27,
     "metadata": {},
     "output_type": "execute_result"
    }
   ],
   "source": [
    "sum(monthly_flex)"
   ]
  },
  {
   "cell_type": "code",
   "execution_count": 28,
   "id": "da177a92-29e5-4289-9bfb-13e98f6e9098",
   "metadata": {},
   "outputs": [
    {
     "data": {
      "text/plain": [
       "'Question 6 below'"
      ]
     },
     "execution_count": 28,
     "metadata": {},
     "output_type": "execute_result"
    }
   ],
   "source": [
    "'''Question 6 below'''"
   ]
  },
  {
   "cell_type": "code",
   "execution_count": 29,
   "id": "2317401a-bd84-4293-ac19-b5c1dd0997bf",
   "metadata": {},
   "outputs": [],
   "source": [
    "no_flex = time_series_kwh['kwh'].sum()*0.21"
   ]
  },
  {
   "cell_type": "code",
   "execution_count": 30,
   "id": "a300418e-c244-4b95-a5e1-b185eaeceaf3",
   "metadata": {},
   "outputs": [],
   "source": [
    "num = [0.10, 0.10, 0.10 ,0.10 ,0.15 ,0.20, 0.24 ,0.24\n",
    "       ,0.26, 0.20, 0.20, 0.26, 0.26, 0.20 ,0.24, 0.18, 0.15\n",
    "       ,0.30, 0.24,0.24,0.12,0.11,0.10, 0.10] \n",
    "hourly_flex = []\n",
    "for f in range(len(time_series_kwh.time.unique())):\n",
    "    hourly_flex.append(time_series_kwh[time_series_kwh['time']==f]['kwh'].sum()*num[f])  "
   ]
  },
  {
   "cell_type": "code",
   "execution_count": 31,
   "id": "a7bed88a-cdc3-46da-b3f6-935c3dfd76fa",
   "metadata": {},
   "outputs": [
    {
     "name": "stdout",
     "output_type": "stream",
     "text": [
      "No flex :1436.86893\n",
      "Monthly Flex: 1420.05828\n",
      "Hourly Flex: 1367.84829\n"
     ]
    }
   ],
   "source": [
    "print(f'No flex :{no_flex}')\n",
    "print(f'Monthly Flex: {sum(monthly_flex)}') \n",
    "print(f'Hourly Flex: {sum(hourly_flex)}') \n",
    "#The answer is hourly flex plan"
   ]
  },
  {
   "cell_type": "code",
   "execution_count": 32,
   "id": "aa4e4cb4-269b-4721-a469-302da08aba51",
   "metadata": {},
   "outputs": [],
   "source": [
    "time_series_kwh.to_excel(\"output.xlsx\") "
   ]
  },
  {
   "cell_type": "markdown",
   "id": "2fee5ced-a463-44bd-bfd8-476358c06f62",
   "metadata": {},
   "source": [
    "### Answers to Questions\n",
    "1.What is your average hourly electricity usage? b. 0.782kWh \\\n",
    "2.What is your average electricity usage perhour in February? d. 0.834kWh \\\n",
    "3.Which day of the week has the highestaverage usage? a. Sunday \\\n",
    "4.What is the highest amount of electricity used in a continuous 4 hour period? a. 17.237kWh \\\n",
    "5.Based on your historic electricity usage, what would your annual cost of electricitybe under the \"Monthly Flex\" contract? b. $1420.06 \\\n",
    "6.Based on your historic electricity usage, which of the three contracts would pro- duce the lowest annual cost? c. The Hourly Flex plan"
   ]
  },
  {
   "cell_type": "code",
   "execution_count": null,
   "id": "be195537-2786-4d0d-be89-fa4b1bc02e31",
   "metadata": {},
   "outputs": [],
   "source": []
  }
 ],
 "metadata": {
  "kernelspec": {
   "display_name": "Python 3 (ipykernel)",
   "language": "python",
   "name": "python3"
  },
  "language_info": {
   "codemirror_mode": {
    "name": "ipython",
    "version": 3
   },
   "file_extension": ".py",
   "mimetype": "text/x-python",
   "name": "python",
   "nbconvert_exporter": "python",
   "pygments_lexer": "ipython3",
   "version": "3.9.12"
  }
 },
 "nbformat": 4,
 "nbformat_minor": 5
}
